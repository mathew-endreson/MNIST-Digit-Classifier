{
 "cells": [
  {
   "cell_type": "code",
   "execution_count": null,
   "id": "e6b46795",
   "metadata": {},
   "outputs": [
    {
     "ename": "",
     "evalue": "",
     "output_type": "error",
     "traceback": [
      "\u001b[1;31mRunning cells with 'Python 3.13.2' requires the ipykernel package.\n",
      "\u001b[1;31m<a href='command:jupyter.createPythonEnvAndSelectController'>Create a Python Environment</a> with the required packages."
     ]
    }
   ],
   "source": [
    "import numpy as np\n",
    "import pandas as pd \n",
    "import matplotlib as plt"
   ]
  },
  {
   "cell_type": "code",
   "execution_count": null,
   "id": "a01e0862",
   "metadata": {},
   "outputs": [],
   "source": [
    "data = pd.read_csv('/kaggle/input/digit-recognizer/train.csv')"
   ]
  },
  {
   "cell_type": "code",
   "execution_count": null,
   "id": "ad64af01",
   "metadata": {},
   "outputs": [],
   "source": [
    "data.head()"
   ]
  },
  {
   "cell_type": "code",
   "execution_count": null,
   "id": "11914260",
   "metadata": {},
   "outputs": [],
   "source": [
    "data = np.array(data)\n",
    "m, n = data.shape\n",
    "np.random.shuffle(data) \n",
    "\n",
    "data_dev = data[0:1000].T\n",
    "Y_dev = data_dev[0]\n",
    "X_dev = data_dev[1:n]\n",
    "X_dev = X_dev / 255.\n",
    "\n",
    "data_train = data[1000:m].T\n",
    "Y_train = data_train[0]\n",
    "X_train = data_train[1:n]\n",
    "X_train = X_train / 255.\n",
    "_,m_train = X_train.shape"
   ]
  },
  {
   "cell_type": "code",
   "execution_count": null,
   "id": "487ef430",
   "metadata": {},
   "outputs": [],
   "source": [
    "Y_train"
   ]
  },
  {
   "cell_type": "markdown",
   "id": "4c9fdd39",
   "metadata": {},
   "source": [
    "Our NN will have a simple two-layer architecture. Input layer  a[0]\n",
    "  will have 784 units corresponding to the 784 pixels in each 28x28 input image. A hidden layer  a[1]\n",
    "  will have 10 units with ReLU activation, and finally our output layer  a[2]\n",
    "  will have 10 units corresponding to the ten digit classes with softmax activation.\n",
    "\n",
    "Forward propagation:\n",
    "\n",
    "Z[1]=W[1]X+b[1]\n",
    " \n",
    "A[1]=gReLU(Z[1]))\n",
    " \n",
    "Z[2]=W[2]A[1]+b[2]\n",
    " \n",
    "A[2]=gsoftmax(Z[2])\n",
    " \n",
    "Backward propagation:\n",
    "\n",
    "dZ[2]=A[2]−Y\n",
    " \n",
    "dW[2]=1mdZ[2]A[1]T\n",
    " \n",
    "dB[2]=1mΣdZ[2]\n",
    " \n",
    "dZ[1]=W[2]TdZ[2].∗g[1]′(z[1])\n",
    " \n",
    "dW[1]=1mdZ[1]A[0]T\n",
    " \n",
    "dB[1]=1mΣdZ[1]\n",
    " \n",
    "Parameter updates:\n",
    "\n",
    "W[2]:=W[2]−αdW[2]\n",
    " \n",
    "b[2]:=b[2]−αdb[2]\n",
    " \n",
    "W[1]:=W[1]−αdW[1]\n",
    " \n",
    "b[1]:=b[1]−αdb[1]\n",
    " \n",
    "Vars and shapes\n",
    "\n",
    "Forward prop\n",
    "\n",
    "A[0]=X : 784 x m\n",
    "\n",
    "Z[1]∼A[1] : 10 x m\n",
    "W[1] : 10 x 784 (as  W[1]A[0]∼Z[1] )\n",
    "B[1]: 10 x 1\n",
    "\n",
    "Z[2]∼A[2]: 10 x m\n",
    "W[1]: 10 x 10 (as  W[2]A[1]∼Z[2] )\n",
    "B[2] : 10 x 1\n",
    "\n",
    "Backprop\n",
    "\n",
    "dZ[2] : 10 x m (  A[2])\n",
    "dW[2] : 10 x 10\n",
    "dB[2] : 10 x 1\n",
    "\n",
    "dZ[1] : 10 x m (  A[1] )\n",
    "dW[1] : 10 x 10\n",
    "dB[1] : 10 x 1"
   ]
  },
  {
   "cell_type": "code",
   "execution_count": null,
   "id": "c8b94d98",
   "metadata": {},
   "outputs": [],
   "source": [
    "def init_params():\n",
    "    W1 = np.random.rand(10, 784) - 0.5\n",
    "    b1 = np.random.rand(10, 1) - 0.5\n",
    "    W2 = np.random.rand(10, 10) - 0.5\n",
    "    b2 = np.random.rand(10, 1) - 0.5\n",
    "    return W1, b1, W2, b2\n",
    "\n",
    "def ReLU(Z):\n",
    "    return np.maximum(Z, 0)\n",
    "\n",
    "def softmax(Z):\n",
    "    A = np.exp(Z) / sum(np.exp(Z))\n",
    "    return A\n",
    "    \n",
    "def forward_prop(W1, b1, W2, b2, X):\n",
    "    Z1 = W1.dot(X) + b1\n",
    "    A1 = ReLU(Z1)\n",
    "    Z2 = W2.dot(A1) + b2\n",
    "    A2 = softmax(Z2)\n",
    "    return Z1, A1, Z2, A2\n",
    "\n",
    "def ReLU_deriv(Z):\n",
    "    return Z > 0\n",
    "\n",
    "def one_hot(Y):\n",
    "    one_hot_Y = np.zeros((Y.size, Y.max() + 1))\n",
    "    one_hot_Y[np.arange(Y.size), Y] = 1\n",
    "    one_hot_Y = one_hot_Y.T\n",
    "    return one_hot_Y\n",
    "\n",
    "def backward_prop(Z1, A1, Z2, A2, W1, W2, X, Y):\n",
    "    one_hot_Y = one_hot(Y)\n",
    "    dZ2 = A2 - one_hot_Y\n",
    "    dW2 = 1 / m * dZ2.dot(A1.T)\n",
    "    db2 = 1 / m * np.sum(dZ2)\n",
    "    dZ1 = W2.T.dot(dZ2) * ReLU_deriv(Z1)\n",
    "    dW1 = 1 / m * dZ1.dot(X.T)\n",
    "    db1 = 1 / m * np.sum(dZ1)\n",
    "    return dW1, db1, dW2, db2\n",
    "\n",
    "def update_params(W1, b1, W2, b2, dW1, db1, dW2, db2, alpha):\n",
    "    W1 = W1 - alpha * dW1\n",
    "    b1 = b1 - alpha * db1    \n",
    "    W2 = W2 - alpha * dW2  \n",
    "    b2 = b2 - alpha * db2    \n",
    "    return W1, b1, W2, b2"
   ]
  },
  {
   "cell_type": "code",
   "execution_count": null,
   "id": "f24a2051",
   "metadata": {},
   "outputs": [],
   "source": [
    "def get_predictions(A2):\n",
    "    return np.argmax(A2, 0)\n",
    "\n",
    "def get_accuracy(predictions, Y):\n",
    "    print(predictions, Y)\n",
    "    return np.sum(predictions == Y) / Y.size\n",
    "\n",
    "def gradient_descent(X, Y, alpha, iterations):\n",
    "    W1, b1, W2, b2 = init_params()\n",
    "    for i in range(iterations):\n",
    "        Z1, A1, Z2, A2 = forward_prop(W1, b1, W2, b2, X)\n",
    "        dW1, db1, dW2, db2 = backward_prop(Z1, A1, Z2, A2, W1, W2, X, Y)\n",
    "        W1, b1, W2, b2 = update_params(W1, b1, W2, b2, dW1, db1, dW2, db2, alpha)\n",
    "        if i % 10 == 0:\n",
    "            print(\"Iteration: \", i)\n",
    "            predictions = get_predictions(A2)\n",
    "            print(get_accuracy(predictions, Y))\n",
    "    return W1, b1, W2, b2"
   ]
  },
  {
   "cell_type": "code",
   "execution_count": null,
   "id": "420a1459",
   "metadata": {},
   "outputs": [],
   "source": [
    "W2, b2 = gradient_descent(X_train, Y_train, 0.101, 500)"
   ]
  },
  {
   "cell_type": "markdown",
   "id": "923268ff",
   "metadata": {},
   "source": [
    "**~84.7% accuracy on first training set.**\n",
    "approximately 84%-86% average accuracy"
   ]
  },
  {
   "cell_type": "code",
   "execution_count": null,
   "id": "126c1f6d",
   "metadata": {},
   "outputs": [],
   "source": [
    "import matplotlib.pyplot as plt \n",
    "def make_predictions(X, W1, b1, W2, b2):\n",
    "    _, _, _, A2 = forward_prop(W1, b1, W2, b2, X)\n",
    "    predictions = get_predictions(A2)\n",
    "    return predictions\n",
    "\n",
    "def test_prediction(index, W1, b1, W2, b2):\n",
    "    current_image = X_train[:, index, None]\n",
    "    prediction = make_predictions(X_train[:, index, None], W1, b1, W2, b2)\n",
    "    label = Y_train[index]\n",
    "    print(\"Prediction: \", prediction)\n",
    "    print(\"Label: \", label)\n",
    "    \n",
    "    current_image = current_image.reshape((28, 28)) * 255\n",
    "    plt.gray()\n",
    "    plt.imshow(current_image, interpolation='nearest')\n",
    "    plt.show()"
   ]
  },
  {
   "cell_type": "markdown",
   "id": "5be00c82",
   "metadata": {},
   "source": [
    "Let's Check couple examples: "
   ]
  },
  {
   "cell_type": "code",
   "execution_count": null,
   "id": "ff7188d8",
   "metadata": {},
   "outputs": [],
   "source": [
    "test_prediction(4, W1, b1, W2, b2)\n",
    "test_prediction(5, W1, b1, W2, b2)\n",
    "test_prediction(8, W1, b1, W2, b2)\n",
    "test_prediction(9, W1, b1, W2, b2)"
   ]
  }
 ],
 "metadata": {
  "kernelspec": {
   "display_name": ".venv",
   "language": "python",
   "name": "python3"
  },
  "language_info": {
   "name": "python",
   "version": "3.13.2"
  }
 },
 "nbformat": 4,
 "nbformat_minor": 5
}
